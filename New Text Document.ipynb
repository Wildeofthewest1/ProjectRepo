{
 "cells": [
  {
   "cell_type": "code",
   "execution_count": 8,
   "metadata": {},
   "outputs": [
    {
     "name": "stdout",
     "output_type": "stream",
     "text": [
      "(0, 0.49640114816302544)\n"
     ]
    }
   ],
   "source": [
    "import numpy as Numeric\n",
    "from math import *\n",
    "import matplotlib.pyplot as plt\n",
    "\n",
    "\n",
    "\n",
    "# ... code from text goes here\n",
    "# set parameters:\n",
    "N = 20\n",
    "N_cor = 20\n",
    "N_cf = 100\n",
    "a = 0.5\n",
    "eps = 1.4\n",
    "# create arrays:\n",
    "x = Numeric.zeros((N,))\n",
    "G = Numeric.zeros((N_cf,N))\n",
    "\n",
    "\n",
    "def update(x):\n",
    "    for j in range(0,N):\n",
    "        old_x = x[j] # save original value\n",
    "        old_Sj = S(j,x)\n",
    "        x[j] = x[j] + Numeric.random.uniform(-eps,eps) # update x[j]\n",
    "        dS = S(j,x) - old_Sj # change in action\n",
    "        if dS>0 and exp(-dS)<Numeric.random.uniform(0,1):\n",
    "            x[j] = old_x # restore old value\n",
    "\n",
    "def S(j,x): # harm. osc. S\n",
    "    jp = (j+1)%N # next site\n",
    "    jm = (j-1)%N # previous site\n",
    "    return a*x[j]**2/2 + x[j]*(x[j]-x[jp]-x[jm])/a\n",
    "\n",
    "\n",
    "def compute_G(x,n):\n",
    "    g = 0\n",
    "    for j in range(0,N):\n",
    "        g = g + x[j]*x[(j+n)%N]\n",
    "    return g/N\n",
    "\n",
    "def MCaverage(x,G):\n",
    "    for j in range(0,N): # initialize x\n",
    "        x[j] = 0\n",
    "    for j in range(0,5*N_cor): # thermalize x\n",
    "        update(x)\n",
    "    for alpha in range(0,N_cf): # loop on random paths\n",
    "        for j in range(0,N_cor):\n",
    "            update(x)\n",
    "        for n in range(0,N):\n",
    "            G[alpha][n] = compute_G(x,n)\n",
    "    for n in range(0,N): # compute MC averages\n",
    "        avg_G = 0\n",
    "        for alpha in range(0,N_cf):\n",
    "            avg_G = avg_G + G[alpha][n]\n",
    "        avg_G = avg_G/N_cf\n",
    "        return n,avg_G\n",
    "\n",
    "def bootstrap(G):\n",
    "    N_cf = len(G)\n",
    "    G_bootstrap = [] # new ensemble\n",
    "    for i in range(0,N_cf):\n",
    "        alpha = int(Numeric.random.uniform(0,N_cf)) # choose random config\n",
    "        G_bootstrap.append(G[alpha]) # keep G[alpha]\n",
    "    return G_bootstrap\n",
    "\n",
    "def bin(G,binsize):\n",
    "    G_binned = [] # binned ensemble\n",
    "    for i in range(0,len(G),binsize): # loop on bins\n",
    "        G_avg = 0\n",
    "        for j in range(0,binsize): # loop on bin elements\n",
    "            G_avg = G_avg + G[i+j]\n",
    "        G_binned.append(G_avg/binsize) # keep bin avg\n",
    "    return G_binned\n",
    "\n",
    "\n",
    "# do the simulation:\n",
    "MCaverage(x,G)\n",
    "\n",
    "print(MCaverage(x,G))"
   ]
  },
  {
   "cell_type": "code",
   "execution_count": null,
   "metadata": {},
   "outputs": [],
   "source": []
  }
 ],
 "metadata": {
  "kernelspec": {
   "display_name": "base",
   "language": "python",
   "name": "python3"
  },
  "language_info": {
   "codemirror_mode": {
    "name": "ipython",
    "version": 3
   },
   "file_extension": ".py",
   "mimetype": "text/x-python",
   "name": "python",
   "nbconvert_exporter": "python",
   "pygments_lexer": "ipython3",
   "version": "3.11.5"
  }
 },
 "nbformat": 4,
 "nbformat_minor": 2
}
